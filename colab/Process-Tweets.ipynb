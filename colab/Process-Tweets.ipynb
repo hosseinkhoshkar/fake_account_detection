{
  "cells": [
    {
      "cell_type": "code",
      "execution_count": null,
      "metadata": {
        "id": "o4tVlBcauS8o"
      },
      "outputs": [],
      "source": [
        "import pandas as pd\n",
        "tweets=pd.read_csv(\"tweets.csv\",encoding=\"utf-8\")\n",
        "print(tweets.keys())"
      ]
    },
    {
      "cell_type": "code",
      "execution_count": null,
      "metadata": {
        "id": "N2cFTaN2uS8r"
      },
      "outputs": [],
      "source": [
        "tweets=tweets.drop(['source',\"id\",'in_reply_to_status_id','in_reply_to_user_id'\n",
        "                    ,\"truncated\",\"in_reply_to_screen_name\",\"retweeted_status_id\",\"geo\",\"place\",\"timestamp\"],axis=1)\n",
        "for i in tweets.keys():\n",
        "    if i not in ['created_at', 'text', 'user_id', 'retweet_count', 'reply_count',\n",
        "       'favorite_count', 'num_hashtags', 'num_urls', 'num_mentions']:\n",
        "        tweets=tweets.drop([i],axis=1)\n",
        "print (tweets.keys())"
      ]
    },
    {
      "cell_type": "code",
      "execution_count": null,
      "metadata": {
        "id": "TCe50_RnuS8s"
      },
      "outputs": [],
      "source": [
        "created_at=tweets[\"created_at\"]\n",
        "created_at=created_at.str.split(' ', expand=True)\n",
        "tweets=tweets.drop([\"created_at\"],axis=1)"
      ]
    },
    {
      "cell_type": "code",
      "execution_count": null,
      "metadata": {
        "id": "zWLPt5kGuS8s"
      },
      "outputs": [],
      "source": [
        "num_years=len(created_at[5].unique())\n",
        "print (num_years)"
      ]
    },
    {
      "cell_type": "code",
      "execution_count": null,
      "metadata": {
        "id": "t_fJrN_8uS8s"
      },
      "outputs": [],
      "source": [
        "for i in tweets.keys():\n",
        "    x=tweets[i]\n",
        "    print (i,x.dropna().shape)"
      ]
    },
    {
      "cell_type": "code",
      "execution_count": null,
      "metadata": {
        "id": "KmJOW6nauS8s"
      },
      "outputs": [],
      "source": [
        "reps=tweets[\"reply_count\"]\n",
        "reps=reps.fillna(0)\n",
        "tweets[\"reply_count\"]=reps\n",
        "for i in tweets.keys():\n",
        "    x=tweets[i]\n",
        "    print (i,x.dropna().shape)"
      ]
    },
    {
      "cell_type": "code",
      "execution_count": null,
      "metadata": {
        "id": "7jZKqtYxuS8t"
      },
      "outputs": [],
      "source": [
        "tweets=tweets.dropna()\n",
        "print (tweets.shape)"
      ]
    },
    {
      "cell_type": "code",
      "execution_count": null,
      "metadata": {
        "id": "FW4QQ-cHuS8t"
      },
      "outputs": [],
      "source": [
        "def calculate_tweet_len(row):\n",
        "    return len(row[\"text\"])\n",
        "\n",
        "def calculate_tweet_link_count(row):\n",
        "    return row[\"text\"].count(\"http\")\n",
        "def calculate_tweet_count(row):\n",
        "    return 1\n",
        "def label(row):\n",
        "    return 0\n",
        "def tweets_frequency(row):\n",
        "    return row[\"num_tweets\"]/(num_years*365)\n",
        "def over_50_tweets(row):\n",
        "    if row[\"num_tweets\"]>50:\n",
        "        return 1\n",
        "    else :\n",
        "        return 0"
      ]
    },
    {
      "cell_type": "code",
      "execution_count": null,
      "metadata": {
        "id": "gTA8tsZAuS8t"
      },
      "outputs": [],
      "source": [
        "tweets[\"tweet_length\"]=tweets.apply(calculate_tweet_len,axis=1)\n",
        "tweets[\"link_count\"]=tweets.apply(calculate_tweet_link_count,axis=1)\n",
        "tweets[\"num_tweets\"]=tweets.apply(calculate_tweet_count,axis=1)\n",
        "print (tweets[\"num_tweets\"])\n",
        "num = tweets.groupby('user_id').sum().reset_index()\n",
        "for i in num.keys():\n",
        "    if i != \"user_id\" and i!=\"num_tweets\":\n",
        "        num=num.drop(i,axis=1)\n",
        "num_tweets = num.groupby('user_id').sum().reset_index()\n",
        "num_tweets[\"tweets_frequency\"]=num_tweets.apply(tweets_frequency,axis=1)\n",
        "num_tweets[\"over_50_tweets\"]=num_tweets.apply(over_50_tweets,axis=1)\n",
        "print (num_tweets)"
      ]
    },
    {
      "cell_type": "code",
      "execution_count": null,
      "metadata": {
        "id": "m_OEEbpbuS8u"
      },
      "outputs": [],
      "source": [
        "\n",
        "tweets=tweets.drop([\"text\"],axis=1)\n",
        "print (tweets.shape)"
      ]
    },
    {
      "cell_type": "code",
      "execution_count": null,
      "metadata": {
        "id": "xtXLMSO6uS8v"
      },
      "outputs": [],
      "source": [
        "print (tweets.keys())"
      ]
    },
    {
      "cell_type": "code",
      "execution_count": null,
      "metadata": {
        "id": "bCGLVqshuS8v"
      },
      "outputs": [],
      "source": [
        "tweets=tweets.apply(lambda x: pd.to_numeric(x, errors='coerce'))"
      ]
    },
    {
      "cell_type": "code",
      "execution_count": null,
      "metadata": {
        "id": "No6igI7YuS8v"
      },
      "outputs": [],
      "source": [
        "result = tweets.groupby('user_id').mean().reset_index()\n",
        "result=pd.merge(result,num_tweets,on=\"user_id\")\n",
        "result=result.drop(\"num_tweets_x\",axis=1)"
      ]
    },
    {
      "cell_type": "code",
      "execution_count": null,
      "metadata": {
        "id": "pTemtICxuS8w"
      },
      "outputs": [],
      "source": [
        "print(result.keys())\n"
      ]
    },
    {
      "cell_type": "code",
      "execution_count": null,
      "metadata": {
        "id": "8mJIRVjouS8w"
      },
      "outputs": [],
      "source": [
        "result"
      ]
    },
    {
      "cell_type": "code",
      "execution_count": null,
      "metadata": {
        "id": "vU6i5cHkuS8w"
      },
      "outputs": [],
      "source": [
        "users=pd.read_csv(\"users.csv\")\n",
        "if \"id\" in users.keys():\n",
        "    users=users.rename(columns={\"id\":\"user_id\"})\n",
        "    print(\"renamed\")\n",
        "print (users.shape)\n",
        "drop_list=[\"name\",\"url\",\"lang\",\"created_at\",\"time_zone\",\"location\",\n",
        "           \"default_profile_image\",\"profile_image_url\",\"profile_banner_url\",\"profile_use_background_image\",\n",
        "           \"profile_background_image_url_https\",\"profile_text_color\",\"profile_image_url_https\",\"profile_sidebar_border_color\",\n",
        "           \"profile_background_tile\",\"profile_sidebar_fill_color\",\"profile_background_image_url\",\"profile_background_color\",\n",
        "           \"profile_link_color\",\"utc_offset\",\"description\",\"dataset\",\"updated\",\"protected\",\"verified\"]\n",
        "users[\"default_profile\"]=users[\"default_profile\"].fillna(0)\n",
        "print (len(drop_list))\n",
        "for i in drop_list:\n",
        "    try: users=users.drop(i,axis=1)\n",
        "    except : pass\n",
        "print (users.shape)"
      ]
    },
    {
      "cell_type": "code",
      "execution_count": null,
      "metadata": {
        "id": "yemBX1IWuS8w"
      },
      "outputs": [],
      "source": [
        "Final_DataFrame=pd.merge(result,users,on=\"user_id\")\n",
        "print (Final_DataFrame.shape,Final_DataFrame.keys())\n"
      ]
    },
    {
      "cell_type": "code",
      "execution_count": null,
      "metadata": {
        "id": "hGyM4lK0uS8w"
      },
      "outputs": [],
      "source": [
        "print (users.keys(),users.shape)\n",
        "print (result.keys(),result.shape)\n",
        "print (Final_DataFrame.keys(),Final_DataFrame.shape)"
      ]
    },
    {
      "cell_type": "code",
      "execution_count": null,
      "metadata": {
        "id": "HPa0iatBuS8x"
      },
      "outputs": [],
      "source": [
        "Final_DataFrame=Final_DataFrame.fillna(0)\n",
        "print (Final_DataFrame)\n",
        "Final_DataFrame[\"label\"]=Final_DataFrame.apply(label,axis=1)\n"
      ]
    },
    {
      "cell_type": "code",
      "execution_count": null,
      "metadata": {
        "id": "7GRaf3GhuS8x"
      },
      "outputs": [],
      "source": [
        "Final_DataFrame.keys()"
      ]
    },
    {
      "cell_type": "code",
      "execution_count": null,
      "metadata": {
        "id": "Y8b85bLGuS8x"
      },
      "outputs": [],
      "source": [
        "cols=['user_id', 'retweet_count', 'reply_count', 'favorite_count',\n",
        "       'num_hashtags', 'num_urls', 'num_mentions', 'tweet_length',\n",
        "       'link_count', 'num_tweets_y', 'tweets_frequency', 'over_50_tweets',\n",
        "       'screen_name', 'statuses_count', 'followers_count', 'friends_count',\n",
        "       'favourites_count', 'listed_count', 'default_profile', 'geo_enabled',\n",
        "       'label']\n",
        "for i in Final_DataFrame.keys():\n",
        "    if i not in cols:\n",
        "        Final_DataFrame=Final_DataFrame.drop([i], axis=1)"
      ]
    },
    {
      "cell_type": "code",
      "execution_count": null,
      "metadata": {
        "id": "sfL8llczuS8x"
      },
      "outputs": [],
      "source": [
        "print (Final_DataFrame.shape)\n",
        "Final_DataFrame.keys()"
      ]
    },
    {
      "cell_type": "code",
      "execution_count": null,
      "metadata": {
        "id": "nNfgwqQvuS8x"
      },
      "outputs": [],
      "source": [
        "Final_DataFrame.to_csv(\"final_dataset.csv\",index=False)"
      ]
    },
    {
      "cell_type": "code",
      "execution_count": null,
      "metadata": {
        "id": "kgS0hi2QuS8x"
      },
      "outputs": [],
      "source": []
    }
  ],
  "metadata": {
    "kernelspec": {
      "display_name": "Python 3",
      "language": "python",
      "name": "python3"
    },
    "language_info": {
      "codemirror_mode": {
        "name": "ipython",
        "version": 3
      },
      "file_extension": ".py",
      "mimetype": "text/x-python",
      "name": "python",
      "nbconvert_exporter": "python",
      "pygments_lexer": "ipython3",
      "version": "3.11.6"
    },
    "orig_nbformat": 4,
    "colab": {
      "provenance": []
    }
  },
  "nbformat": 4,
  "nbformat_minor": 0
}